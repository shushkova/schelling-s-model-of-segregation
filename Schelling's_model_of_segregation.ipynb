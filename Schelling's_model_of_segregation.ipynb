{
  "nbformat": 4,
  "nbformat_minor": 0,
  "metadata": {
    "colab": {
      "name": "Schelling's model of segregation.ipynb",
      "provenance": [],
      "authorship_tag": "ABX9TyO86v/2oB/BwgzcP2k9cQDY",
      "include_colab_link": true
    },
    "kernelspec": {
      "name": "python3",
      "display_name": "Python 3"
    }
  },
  "cells": [
    {
      "cell_type": "markdown",
      "metadata": {
        "id": "view-in-github",
        "colab_type": "text"
      },
      "source": [
        "<a href=\"https://colab.research.google.com/github/shushkova/schelling-s-model-of-segregation/blob/main/Schelling's_model_of_segregation.ipynb\" target=\"_parent\"><img src=\"https://colab.research.google.com/assets/colab-badge.svg\" alt=\"Open In Colab\"/></a>"
      ]
    },
    {
      "cell_type": "code",
      "metadata": {
        "id": "Xad5pWvMgKUL"
      },
      "source": [
        ""
      ],
      "execution_count": null,
      "outputs": []
    },
    {
      "cell_type": "code",
      "metadata": {
        "id": "ZUnmGeB9gSpT"
      },
      "source": [
        "N\n",
        "M"
      ],
      "execution_count": null,
      "outputs": []
    }
  ]
}